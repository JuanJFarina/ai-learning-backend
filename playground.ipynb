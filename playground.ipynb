{
 "cells": [
  {
   "cell_type": "code",
   "execution_count": 1,
   "id": "5ee4495b",
   "metadata": {},
   "outputs": [],
   "source": [
    "from google import genai\n",
    "from google.genai import types\n",
    "import os\n",
    "from PIL import Image\n",
    "from io import BytesIO\n",
    "import io\n",
    "from uuid import uuid4"
   ]
  },
  {
   "cell_type": "code",
   "execution_count": 2,
   "id": "bfd17b83",
   "metadata": {},
   "outputs": [],
   "source": [
    "GOOGLE_API_KEY = os.environ[\"GOOGLE_API_KEY\"]"
   ]
  },
  {
   "cell_type": "code",
   "execution_count": 42,
   "id": "ed6f047a",
   "metadata": {},
   "outputs": [],
   "source": [
    "prompt = \"\"\"\n",
    "You're an AI Teacher, tasked with creating a lesson.\n",
    "The lesson must be a plain text JSON (DO NOT use ```json, start directly with the opening bracket) that conforms to this schema:\n",
    "\n",
    "{\n",
    "  \"$schema\": \"http://json-schema.org/draft-04/schema#\",\n",
    "  \"type\": \"object\",\n",
    "  \"properties\": {\n",
    "    \"topic\": {\n",
    "      \"type\": \"string\"\n",
    "    },\n",
    "    \"concept\": {\n",
    "      \"type\": \"string\"\n",
    "    },\n",
    "    \"full_text\": {\n",
    "      \"type\": \"string\"\n",
    "    },\n",
    "    \"description\": {\n",
    "      \"type\": \"string\"\n",
    "    },\n",
    "    \"mermaid_diagram\": {\n",
    "      \"type\": \"string\"\n",
    "    },\n",
    "    \"references\": {\n",
    "      \"type\": \"array\",\n",
    "      \"items\": [\n",
    "        {\n",
    "          \"type\": \"string\"\n",
    "        }\n",
    "      ]\n",
    "    },\n",
    "    \"related_lessons\": {\n",
    "      \"type\": \"array\",\n",
    "      \"items\": [\n",
    "        {\n",
    "          \"type\": \"object\",\n",
    "          \"properties\": {\n",
    "            \"topic\": {\n",
    "              \"type\": \"string\"\n",
    "            },\n",
    "            \"concept\": {\n",
    "              \"type\": \"string\"\n",
    "            }\n",
    "          },\n",
    "          \"required\": [\n",
    "            \"topic\",\n",
    "            \"concept\"\n",
    "          ]\n",
    "        }\n",
    "      ]\n",
    "    }\n",
    "  },\n",
    "  \"required\": [\n",
    "    \"topic\",\n",
    "    \"concept\",\n",
    "    \"full_text\",\n",
    "    \"description\",\n",
    "    \"mermaid_diagram\",\n",
    "    \"references\",\n",
    "    \"related_lessons\"\n",
    "  ]\n",
    "}\n",
    "\n",
    "\"topic\" must be the field or area of knowledge.\n",
    "\"concept\" must be the specific idea or principle to be taught.\n",
    "\"full_text\" must be a long and detailed explanation of the concept, prioritizing that the student has all the details and knowledge required to fully understand the concept, both theoretically and practically.\n",
    "\"description\" must be a brief summary of the lesson. This shouldn't be longer than 200 characters.\n",
    "\"mermaid_diagram\" must be a string with a mermaid diagram that illustrates the concept. This should be a valid mermaid diagram, and it should be as simple as possible, but still useful to understand the concept.\n",
    "\"references\" must be an array of books, articles, webpages (mostly with text information, like docs and manpages), or youtube videos that the student can use to learn more about this specific lesson's content. Don't recommend e-learning platforms or paid courses, like those in Coursera.\n",
    "\"related_lessons\" must be an array of other lessons that would continue the student's learning taking into consideration the current lesson.\n",
    "\n",
    "The student comes from studying these lessons:\n",
    "- \"Artificial Intelligence\" and the concept of \"Neural Networks\"\n",
    "- \"Artificial Intelligence\" and the concept of \"Natural Language Processing\"\n",
    "- \"Artificial Intelligence\" and the concept of \"Computer Vision\"\n",
    "\n",
    "Now create a lesson on the topic of \"Artificial Intelligence\" and the concept of \"Machine Learning\".\n",
    "\n",
    "Remember, your answer must have the specified JSON format, without any text or explanation outside of it.\n",
    "\"\"\""
   ]
  },
  {
   "cell_type": "code",
   "execution_count": 43,
   "id": "4b7ff6f9",
   "metadata": {},
   "outputs": [],
   "source": [
    "client = genai.Client(api_key=GOOGLE_API_KEY)"
   ]
  },
  {
   "cell_type": "code",
   "execution_count": 44,
   "id": "93eab2a9",
   "metadata": {},
   "outputs": [],
   "source": [
    "response = client.models.generate_content(\n",
    "    model=\"gemini-2.0-flash\",\n",
    "    contents=prompt,\n",
    "    config=types.GenerateContentConfig(response_modalities=[\"TEXT\"]),\n",
    ")"
   ]
  },
  {
   "cell_type": "code",
   "execution_count": 45,
   "id": "05278b7a",
   "metadata": {},
   "outputs": [
    {
     "name": "stdout",
     "output_type": "stream",
     "text": [
      "{\n",
      "  \"topic\": \"Artificial Intelligence\",\n",
      "  \"concept\": \"Machine Learning\",\n",
      "  \"full_text\": \"Machine learning (ML) is a subfield of artificial intelligence (AI) that focuses on enabling computer systems to learn from data without being explicitly programmed. Instead of relying on hard-coded rules, ML algorithms use statistical techniques to identify patterns, make predictions, and improve their performance over time as they are exposed to more data.\\n\\n**Key Concepts:**\\n\\n*   **Learning from Data:** ML algorithms learn from data, which can be structured (e.g., tables, databases) or unstructured (e.g., text, images, audio). The data is used to train a model, which is a mathematical representation of the relationships within the data.\\n*   **Algorithms:** ML algorithms include supervised learning, unsupervised learning, and reinforcement learning. Each type has different characteristics and is suitable for different types of problems.\\n*   **Models:** A model is the output of a machine learning algorithm. It represents the learned relationships in the data and can be used to make predictions or classifications on new, unseen data. Common model types include linear regression models, decision trees, support vector machines, and neural networks.\\n*   **Training:** Training is the process of feeding data to a machine learning algorithm to create a model. During training, the algorithm adjusts its internal parameters to minimize the difference between its predictions and the actual values in the data.\\n*   **Evaluation:** Evaluation is the process of assessing the performance of a trained model. This is typically done by testing the model on a separate dataset that was not used during training. Metrics such as accuracy, precision, recall, and F1-score are used to evaluate the model's performance.\\n*   **Features:** Features are the input variables used by the machine learning algorithm to make predictions. Feature engineering is the process of selecting, transforming, and creating features that are relevant to the task at hand. Good feature engineering can significantly improve the performance of a machine learning model.\\n\\n**Types of Machine Learning:**\\n\\n*   **Supervised Learning:** In supervised learning, the algorithm is trained on labeled data, meaning that each data point has an associated output value or label. The goal is to learn a mapping from the input features to the output labels. Examples of supervised learning tasks include classification (predicting a category) and regression (predicting a continuous value).\\n*   **Unsupervised Learning:** In unsupervised learning, the algorithm is trained on unlabeled data, meaning that there are no predefined output values or labels. The goal is to discover hidden patterns or structures in the data. Examples of unsupervised learning tasks include clustering (grouping similar data points together) and dimensionality reduction (reducing the number of features while preserving important information).\\n*   **Reinforcement Learning:** In reinforcement learning, the algorithm learns by interacting with an environment and receiving feedback in the form of rewards or penalties. The goal is to learn a policy that maximizes the cumulative reward over time. Reinforcement learning is often used in robotics, game playing, and control systems.\\n\\n**Common Machine Learning Algorithms:**\\n\\n*   **Linear Regression:** Predicts a continuous value based on a linear relationship between the input features and the output value.\\n*   **Logistic Regression:** Predicts the probability of a data point belonging to a certain category.\\n*   **Decision Trees:** Creates a tree-like structure to classify or predict data based on a series of decisions.\\n*   **Support Vector Machines (SVMs):** Finds the optimal hyperplane to separate data points into different categories.\\n*   **K-Nearest Neighbors (KNN):** Classifies or predicts data based on the majority class of its nearest neighbors.\\n*   **Neural Networks:** Complex models inspired by the structure of the human brain, capable of learning highly non-linear relationships in data. See the dedicated Neural Networks lesson for more info.\\n*   **K-Means Clustering:** Groups data points into clusters based on their similarity.\\n\\n**Practical Applications:**\\n\\nMachine learning is used in a wide range of applications, including:\\n\\n*   **Image Recognition:** Identifying objects, faces, and scenes in images.\\n*   **Natural Language Processing:** Understanding and generating human language.\\n*   **Spam Filtering:** Detecting and filtering unwanted emails.\\n*   **Recommendation Systems:** Suggesting products, movies, or music based on user preferences.\\n*   **Fraud Detection:** Identifying fraudulent transactions.\\n*   **Medical Diagnosis:** Assisting doctors in diagnosing diseases.\\n\\n**Steps in a Machine Learning Project:**\\n\\n1.  **Define the Problem:** Clearly define the problem you are trying to solve with machine learning.\\n2.  **Collect Data:** Gather relevant data that can be used to train a machine learning model.\\n3.  **Prepare Data:** Clean, transform, and preprocess the data to make it suitable for training.\\n4.  **Choose a Model:** Select a machine learning algorithm that is appropriate for the problem and the data.\\n5.  **Train the Model:** Train the model on the prepared data.\\n6.  **Evaluate the Model:** Evaluate the performance of the model on a separate dataset.\\n7.  **Tune the Model:** Adjust the model's parameters to improve its performance.\\n8.  **Deploy the Model:** Deploy the trained model to make predictions on new data.\\n9.  **Monitor the Model:** Continuously monitor the model's performance and retrain it as needed.\\n\\nUnderstanding these concepts provides a solid foundation for further exploration into specific machine learning techniques and their applications.\",\n",
      "  \"description\": \"Introduces Machine Learning (ML), a subfield of AI where systems learn from data without explicit programming. Covers key concepts, types of ML, common algorithms, and practical applications.\",\n",
      "  \"mermaid_diagram\": \"graph LR\\n    A[Data] --> B(Machine Learning Algorithm);\\n    B --> C{Model};\\n    C --> D(Prediction/Classification);\\n    D --> E{Evaluation};\\n    E -- Improved Performance --> B;\\n    style A fill:#f9f,stroke:#333,stroke-width:2px\\n    style B fill:#ccf,stroke:#333,stroke-width:2px\\n    style C fill:#fcf,stroke:#333,stroke-width:2px\\n    style D fill:#cfc,stroke:#333,stroke-width:2px\\n    style E fill:#ffc,stroke:#333,stroke-width:2px\",\n",
      "  \"references\": [\n",
      "    \"https://developers.google.com/machine-learning/crash-course\",\n",
      "    \"https://scikit-learn.org/stable/tutorial/basic/tutorial.html\",\n",
      "    \"https://www.tensorflow.org/tutorials\",\n",
      "    \"https://pytorch.org/tutorials/\",\n",
      "    \"Aurélien Géron. Hands-On Machine Learning with Scikit-Learn, Keras & TensorFlow, 2nd Edition. O'Reilly Media, 2019.\"\n",
      "  ],\n",
      "  \"related_lessons\": [\n",
      "    {\n",
      "      \"topic\": \"Artificial Intelligence\",\n",
      "      \"concept\": \"Deep Learning\"\n",
      "    },\n",
      "    {\n",
      "      \"topic\": \"Mathematics\",\n",
      "      \"concept\": \"Linear Algebra\"\n",
      "    },\n",
      "    {\n",
      "      \"topic\": \"Mathematics\",\n",
      "      \"concept\": \"Calculus\"\n",
      "    }\n",
      "  ]\n",
      "}\n",
      "\n"
     ]
    }
   ],
   "source": [
    "for part in response.candidates[0].content.parts:\n",
    "    if part.text is not None:\n",
    "        print(part.text)\n",
    "    elif part.inline_data is not None:\n",
    "        image = Image.open(BytesIO((part.inline_data.data)))\n",
    "        image.save(f\"gemini-native-image-{uuid4()}.png\")\n",
    "        image.show()"
   ]
  }
 ],
 "metadata": {
  "kernelspec": {
   "display_name": ".venv",
   "language": "python",
   "name": "python3"
  },
  "language_info": {
   "codemirror_mode": {
    "name": "ipython",
    "version": 3
   },
   "file_extension": ".py",
   "mimetype": "text/x-python",
   "name": "python",
   "nbconvert_exporter": "python",
   "pygments_lexer": "ipython3",
   "version": "3.10.11"
  }
 },
 "nbformat": 4,
 "nbformat_minor": 5
}
