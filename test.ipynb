{
 "cells": [
  {
   "cell_type": "code",
   "execution_count": 1,
   "id": "983f9d91",
   "metadata": {},
   "outputs": [],
   "source": [
    "from ai_learning.domain import AITeacher\n",
    "from ai_learning.settings import Settings"
   ]
  },
  {
   "cell_type": "code",
   "execution_count": 2,
   "id": "14a3e2d5",
   "metadata": {},
   "outputs": [],
   "source": [
    "ai_teacher = AITeacher(api_key=Settings.GOOGLE_API_KEY, model=Settings.MODEL_NAME)"
   ]
  },
  {
   "cell_type": "code",
   "execution_count": 11,
   "id": "686c3e13",
   "metadata": {},
   "outputs": [
    {
     "name": "stdout",
     "output_type": "stream",
     "text": [
      "Attempt 1/5 failed: Expecting value: line 1 column 1 (char 0)\n",
      "Attempt 2/5 failed: Expecting value: line 1 column 1 (char 0)\n",
      "Attempting to validate Lesson\n"
     ]
    }
   ],
   "source": [
    "lesson = ai_teacher.create_lesson(\n",
    "    topic=\"Computer Science\",\n",
    "    concept=\"Python Multithreading\",\n",
    "    previous_lessons=[],\n",
    ")"
   ]
  },
  {
   "cell_type": "code",
   "execution_count": 12,
   "id": "436520b4",
   "metadata": {},
   "outputs": [
    {
     "data": {
      "text/plain": [
       "\"Multithreading in Python allows you to run multiple threads concurrently within a single process. A thread is a separate flow of execution. Python's `threading` module provides a way to create and manage threads. However, due to the Global Interpreter Lock (GIL), only one thread can hold control of the Python interpreter at any given time. This means that for CPU-bound tasks, multithreading in Python might not provide significant performance improvements because the threads are essentially taking turns executing. For I/O-bound tasks, though, multithreading can be very useful, as threads can release the GIL while waiting for I/O operations to complete, allowing other threads to run.\\n\\n**Key Concepts:**\\n\\n*   **Threads:** Independent units of execution within a process.\\n*   **Global Interpreter Lock (GIL):** A mutex that allows only one thread to hold control of the Python interpreter.  It is important to understand that the GIL is a CPython implementation detail and other Python implementations like Jython and IronPython don't have this limitation.\\n*   **Thread Creation:** Using the `threading.Thread` class to create new threads.\\n*   **Thread Start:** Starting a thread using the `start()` method.\\n*   **Thread Join:** Waiting for a thread to complete its execution using the `join()` method.\\n*   **Synchronization:** Using locks, semaphores, and other synchronization primitives to prevent race conditions and data corruption when multiple threads access shared resources.\\n\\n**Example:**\\n\\n```python\\nimport threading\\nimport time\\n\\ndef task(name):\\n    print(f'Thread {name}: starting')\\n    time.sleep(2)  # Simulate some work\\n    print(f'Thread {name}: finishing')\\n\\nthreads = []\\nfor i in range(3):\\n    t = threading.Thread(target=task, args=(i,))\\n    threads.append(t)\\n    t.start()\\n\\nfor t in threads:\\n    t.join()\\n\\nprint('All threads finished')\\n```\\n\\n**Explanation of the Example:**\\n\\n1.  **Import `threading`:** Imports the necessary module.\\n2.  **Define `task()`:** Defines a function that represents the work each thread will perform.  In this case, it prints a starting message, sleeps for 2 seconds (simulating work), and then prints a finishing message.\\n3.  **Create Threads:** A loop creates three `threading.Thread` objects.  The `target` argument specifies the function to be executed by the thread, and the `args` argument passes arguments to the function.\\n4.  **Start Threads:** The `start()` method is called on each thread to begin its execution.\\n5.  **Join Threads:** The `join()` method is called on each thread.  This causes the main thread to wait for each thread to complete before continuing.\\n\\n**Synchronization (Locks):**\\n\\nWhen multiple threads access shared resources (e.g., variables, files), you need to use synchronization mechanisms to prevent race conditions. A race condition occurs when the outcome of a program depends on the unpredictable order in which threads execute.\\n\\nThe `threading.Lock` class provides a simple lock mechanism.  A thread must acquire the lock before accessing the shared resource, and then release the lock when it's done.\\n\\n```python\\nimport threading\\nimport time\\n\\nshared_resource = 0\\nlock = threading.Lock()\\n\\ndef increment():\\n    global shared_resource\\n    for _ in range(100000):\\n        lock.acquire()\\n        shared_resource += 1\\n        lock.release()\\n\\nthreads = []\\nfor _ in range(2):\\n    t = threading.Thread(target=increment)\\n    threads.append(t)\\n    t.start()\\n\\nfor t in threads:\\n    t.join()\\n\\nprint(f'Shared resource: {shared_resource}')\\n```\\n\\n**Explanation:**\\n\\n1.  **`threading.Lock()`:** Creates a lock object.\\n2.  **`lock.acquire()`:** Acquires the lock. If the lock is already held by another thread, the calling thread will block until the lock is released.\\n3.  **`lock.release()`:** Releases the lock.\\n\\n**Alternatives to Multithreading for CPU-Bound Tasks:**\\n\\nBecause of the GIL, multithreading isn't ideal for CPU-bound tasks. Alternatives include:\\n\\n*   **Multiprocessing:** Uses multiple processes instead of threads, bypassing the GIL.  The `multiprocessing` module is generally preferred for CPU-bound tasks.\\n*   **Asynchronous Programming (asyncio):** Uses a single thread with an event loop to handle multiple tasks concurrently. This is often used for I/O-bound tasks as well.\\n\\n**When to Use Multithreading:**\\n\\n*   **I/O-Bound Tasks:** When threads spend a lot of time waiting for I/O operations (e.g., network requests, file reads/writes).\\n*   **Concurrency:** When you need to perform multiple tasks concurrently, even if they don't require significant CPU processing.\\n*   **Simplified Code:** Sometimes, multithreading can simplify code by allowing you to break down a complex task into smaller, independent threads.\\n\\n**Important Considerations:**\\n\\n*   **Race Conditions:** Be careful about race conditions and data corruption when multiple threads access shared resources. Use appropriate synchronization mechanisms.\\n*   **Deadlocks:** Be aware of the possibility of deadlocks, where two or more threads are blocked indefinitely, waiting for each other to release resources.\\n*   **GIL Overhead:** For CPU-bound tasks, the GIL can negate the benefits of multithreading. Consider using multiprocessing instead.\""
      ]
     },
     "execution_count": 12,
     "metadata": {},
     "output_type": "execute_result"
    }
   ],
   "source": [
    "lesson.full_text"
   ]
  },
  {
   "cell_type": "code",
   "execution_count": null,
   "id": "39ae201c",
   "metadata": {},
   "outputs": [],
   "source": []
  }
 ],
 "metadata": {
  "kernelspec": {
   "display_name": ".venv",
   "language": "python",
   "name": "python3"
  },
  "language_info": {
   "codemirror_mode": {
    "name": "ipython",
    "version": 3
   },
   "file_extension": ".py",
   "mimetype": "text/x-python",
   "name": "python",
   "nbconvert_exporter": "python",
   "pygments_lexer": "ipython3",
   "version": "3.10.11"
  }
 },
 "nbformat": 4,
 "nbformat_minor": 5
}
