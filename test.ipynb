{
 "cells": [
  {
   "cell_type": "code",
   "execution_count": 1,
   "id": "983f9d91",
   "metadata": {},
   "outputs": [],
   "source": [
    "from ai_learning.domain import AITeacher, StudyTopics, LessonConcept\n",
    "from ai_learning.infrastructure import GoogleClient\n",
    "from ai_learning.settings import Settings"
   ]
  },
  {
   "cell_type": "code",
   "execution_count": 2,
   "id": "14a3e2d5",
   "metadata": {},
   "outputs": [],
   "source": [
    "ai_teacher = AITeacher(llm_api_client=GoogleClient(), model_name=Settings.MODEL_NAME)"
   ]
  },
  {
   "cell_type": "code",
   "execution_count": 3,
   "id": "686c3e13",
   "metadata": {},
   "outputs": [
    {
     "name": "stdout",
     "output_type": "stream",
     "text": [
      "Attempting to validate Lesson\n"
     ]
    }
   ],
   "source": [
    "lesson = ai_teacher.create_lesson(\n",
    "    topic=StudyTopics.MATH.value,\n",
    "    concept=\"Eigenvalues and Eigenvectors\",\n",
    "    previous_lessons=[\n",
    "        LessonConcept(\n",
    "            topic=StudyTopics.MATH,\n",
    "            concept=\"Systems of Equations\",\n",
    "        ),\n",
    "        LessonConcept(\n",
    "            topic=StudyTopics.MATH,\n",
    "            concept=\"Matrix Algebra\",\n",
    "        )\n",
    "    ],\n",
    ")"
   ]
  },
  {
   "cell_type": "code",
   "execution_count": 4,
   "id": "436520b4",
   "metadata": {},
   "outputs": [
    {
     "data": {
      "text/plain": [
       "'Learn about eigenvalues and eigenvectors, their calculation, and their applications in various fields such as data analysis, physics, and engineering. Includes examples.'"
      ]
     },
     "execution_count": 4,
     "metadata": {},
     "output_type": "execute_result"
    }
   ],
   "source": [
    "lesson.description"
   ]
  },
  {
   "cell_type": "code",
   "execution_count": 5,
   "id": "fdbcc0d2",
   "metadata": {},
   "outputs": [
    {
     "name": "stdout",
     "output_type": "stream",
     "text": [
      "Eigenvalues and eigenvectors are fundamental concepts in linear algebra with applications in various fields, including physics, engineering, and computer science. They provide a way to understand the behavior of linear transformations and matrices. Historically, the concept of eigenvalues emerged from the study of quadratic forms and linear differential equations in the 18th and 19th centuries.  The term 'eigenvalue' (German 'Eigenwert') roughly translates to 'characteristic value' or 'own value'.\n",
      "\n",
      "Let's start with the definitions:\n",
      "\n",
      "Eigenvector: An eigenvector of a square matrix A is a non-zero vector v that, when multiplied by A, results in a vector that is a scalar multiple of v. In other words, the direction of the vector remains unchanged (or reversed) after the linear transformation represented by A.\n",
      "\n",
      "Eigenvalue: An eigenvalue λ (lambda) of a square matrix A is a scalar such that there exists a non-zero vector v satisfying the equation Av = λv. The eigenvalue represents the factor by which the eigenvector is scaled when transformed by the matrix A.\n",
      "\n",
      "The Equation:  The defining equation for eigenvalues and eigenvectors is Av = λv, where:\n",
      "A is a square matrix (n x n).\n",
      "v is an eigenvector (a non-zero column vector).\n",
      "λ is an eigenvalue (a scalar).\n",
      "\n",
      "Finding Eigenvalues: To find the eigenvalues of a matrix A, we rearrange the equation Av = λv as follows:\n",
      "Av - λv = 0\n",
      "Av - λIv = 0  (where I is the identity matrix)\n",
      "(A - λI)v = 0\n",
      "\n",
      "For v to be a non-zero vector, the matrix (A - λI) must be singular (i.e., its determinant must be zero). Therefore, we solve the characteristic equation:\n",
      "det(A - λI) = 0\n",
      "\n",
      "The solutions to this equation are the eigenvalues of A.  The determinant det(A - λI) is a polynomial in λ, called the characteristic polynomial.  For an n x n matrix, the characteristic polynomial is of degree n, and therefore has n roots (eigenvalues), which may be real or complex, and may have multiplicity.\n",
      "\n",
      "Finding Eigenvectors: Once we have found the eigenvalues, we can find the corresponding eigenvectors by substituting each eigenvalue back into the equation (A - λI)v = 0 and solving for v.  For each eigenvalue, there will be infinitely many eigenvectors, all scalar multiples of each other.  We typically choose one eigenvector as a representative, often normalized to have a length of 1.\n",
      "\n",
      "Steps to calculate Eigenvalues and Eigenvectors:\n",
      "\n",
      "1. Form the characteristic equation: det(A - λI) = 0.\n",
      "2. Solve the characteristic equation for λ to find the eigenvalues.\n",
      "3. For each eigenvalue λ, solve the system of linear equations (A - λI)v = 0 to find the corresponding eigenvector v.\n",
      "\n",
      "Example:\n",
      "Let's find the eigenvalues and eigenvectors of the matrix A = [[2, 1], [1, 2]].\n",
      "\n",
      "1. Characteristic Equation:\n",
      "A - λI = [[2-λ, 1], [1, 2-λ]]\n",
      "det(A - λI) = (2-λ)(2-λ) - 1*1 = λ^2 - 4λ + 4 - 1 = λ^2 - 4λ + 3 = 0\n",
      "\n",
      "2. Solving for Eigenvalues:\n",
      "λ^2 - 4λ + 3 = (λ - 3)(λ - 1) = 0\n",
      "So, the eigenvalues are λ1 = 3 and λ2 = 1.\n",
      "\n",
      "3. Finding Eigenvectors:\n",
      "For λ1 = 3:\n",
      "(A - 3I)v = [[-1, 1], [1, -1]]v = 0\n",
      "Let v = [x, y]. Then -x + y = 0, so x = y.  An eigenvector corresponding to λ1 = 3 is v1 = [1, 1].\n",
      "\n",
      "For λ2 = 1:\n",
      "(A - 1I)v = [[1, 1], [1, 1]]v = 0\n",
      "Let v = [x, y]. Then x + y = 0, so y = -x.  An eigenvector corresponding to λ2 = 1 is v2 = [1, -1].\n",
      "\n",
      "Therefore, the eigenvalues of A are 3 and 1, with corresponding eigenvectors [1, 1] and [1, -1], respectively.\n",
      "\n",
      "Applications:\n",
      "\n",
      "Principal Component Analysis (PCA):  In data analysis, eigenvectors and eigenvalues are used in PCA to reduce the dimensionality of data while preserving the most important information.\n",
      "\n",
      "Vibrational Analysis: In engineering, eigenvalues and eigenvectors are used to analyze the vibrational modes of structures. The eigenvalues represent the natural frequencies of vibration, and the eigenvectors represent the mode shapes.\n",
      "\n",
      "Quantum Mechanics:  In quantum mechanics, eigenvalues represent the possible values of measurable quantities (observables), and eigenvectors represent the corresponding states of the system.\n",
      "\n",
      "Graph Theory:  Eigenvalues of the adjacency matrix of a graph provide information about the graph's connectivity and other properties.\n",
      "\n",
      "Markov Chains:  Eigenvalues and eigenvectors are used to analyze the long-term behavior of Markov chains, such as the PageRank algorithm used by Google.\n",
      "\n",
      "Diagonalization: A matrix A is diagonalizable if it can be written as A = PDP^-1, where D is a diagonal matrix containing the eigenvalues of A, and P is a matrix whose columns are the corresponding eigenvectors.  Diagonalization simplifies many matrix calculations.\n",
      "\n",
      "Limitations:\n",
      "Not all matrices have real eigenvalues. Complex eigenvalues occur when the characteristic polynomial has complex roots.\n",
      "Defective matrices do not have a complete set of linearly independent eigenvectors, making them non-diagonalizable.\n",
      "\n",
      "Understanding the mathematical concepts of eigenvalues and eigenvectors is crucial for anyone working with linear transformations and matrices in various scientific and engineering disciplines. Their applications extend from theoretical analysis to practical problem-solving, making them an indispensable tool in many areas of study.\n"
     ]
    }
   ],
   "source": [
    "print(lesson.full_text)"
   ]
  },
  {
   "cell_type": "code",
   "execution_count": 6,
   "id": "78e63a12",
   "metadata": {},
   "outputs": [
    {
     "data": {
      "text/plain": [
       "['Gilbert Strang, Linear Algebra and Its Applications',\n",
       " 'David C. Lay, Linear Algebra and Its Applications',\n",
       " 'MIT OpenCourseWare: Linear Algebra - https://ocw.mit.edu/courses/mathematics/18-06-linear-algebra-spring-2010/']"
      ]
     },
     "execution_count": 6,
     "metadata": {},
     "output_type": "execute_result"
    }
   ],
   "source": [
    "lesson.references"
   ]
  },
  {
   "cell_type": "code",
   "execution_count": 7,
   "id": "dc2b99e2",
   "metadata": {},
   "outputs": [
    {
     "data": {
      "text/plain": [
       "[LessonConcept(topic=<StudyTopics.MATH: 'Math'>, concept='Linear Transformations'),\n",
       " LessonConcept(topic=<StudyTopics.MATH: 'Math'>, concept='Matrix Diagonalization'),\n",
       " LessonConcept(topic=<StudyTopics.MATH: 'Math'>, concept='Determinants')]"
      ]
     },
     "execution_count": 7,
     "metadata": {},
     "output_type": "execute_result"
    }
   ],
   "source": [
    "lesson.related_lessons"
   ]
  },
  {
   "cell_type": "code",
   "execution_count": null,
   "id": "88bf1f0a",
   "metadata": {},
   "outputs": [],
   "source": []
  }
 ],
 "metadata": {
  "kernelspec": {
   "display_name": ".venv",
   "language": "python",
   "name": "python3"
  },
  "language_info": {
   "codemirror_mode": {
    "name": "ipython",
    "version": 3
   },
   "file_extension": ".py",
   "mimetype": "text/x-python",
   "name": "python",
   "nbconvert_exporter": "python",
   "pygments_lexer": "ipython3",
   "version": "3.10.11"
  }
 },
 "nbformat": 4,
 "nbformat_minor": 5
}
